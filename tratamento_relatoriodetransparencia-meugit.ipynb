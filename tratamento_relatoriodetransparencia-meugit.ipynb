{
  "cells": [
    {
      "cell_type": "markdown",
      "metadata": {
        "id": "R4PckJKmVhO8"
      },
      "source": [
        "# Tratamento de Planilha para o Relatório de Transparência\n",
        "\n"
      ]
    },
    {
      "cell_type": "markdown",
      "metadata": {
        "id": "oYysK5Oma_UD"
      },
      "source": [
        "##Bibliotecas & Funções"
      ]
    },
    {
      "cell_type": "code",
      "execution_count": null,
      "metadata": {
        "id": "hj026WjBV3iP"
      },
      "outputs": [],
      "source": [
        "import pandas as pd\n",
        "import numpy as np\n",
        "import io"
      ]
    },
    {
      "cell_type": "code",
      "execution_count": null,
      "metadata": {
        "colab": {
          "base_uri": "https://localhost:8080/"
        },
        "id": "xoQm3OaTWv4t",
        "outputId": "785ae260-6e27-4e7e-f1a5-d1e8e3f0d33b"
      },
      "outputs": [
        {
          "output_type": "stream",
          "name": "stdout",
          "text": [
            "Mounted at /content/drive\n",
            "Mounted at /content/drive\n"
          ]
        }
      ],
      "source": [
        "#conecta com o Google Drive para permitir acesso a pasta em que estão armazenados os arquivos csv.\n",
        "from google.colab import drive\n",
        "drive.mount('/content/drive')\n",
        "drive.mount(\"/content/drive\", force_remount=True)"
      ]
    },
    {
      "cell_type": "code",
      "execution_count": null,
      "metadata": {
        "id": "0gwEq-vZbTJR"
      },
      "outputs": [],
      "source": [
        "def tratamento_planilhas_antigas(planilha_antiga, planilha_atual):\n",
        "  planilha_antiga['Identificação'] = planilha_antiga['Identificação'].str.upper() #\n",
        "  planilha_antiga.rename(columns={' Valor':'Valor'}, inplace=True)\n",
        "  i=0\n",
        "  for item in planilha_antiga['Valor'].values:\n",
        "    planilha_antiga['Valor'][i] = planilha_antiga['Valor'][i].replace('R$', '')\n",
        "    planilha_antiga['Valor'][i] = planilha_antiga['Valor'][i].replace(' ', '')\n",
        "    planilha_antiga['Valor'][i] = planilha_antiga['Valor'][i].replace(',', '')\n",
        "    i+= 1\n",
        "  planilha_antiga['Valor']=planilha_antiga['Valor'].astype(float)\n",
        "  #adicionar categorias com base em planilha antiga\n",
        "  i=0\n",
        "  tam1 = len(planilha_atual.index)\n",
        "  tam2 = len(planilha_antiga.index)\n",
        "  planilha_antiga['Identificação'] = planilha_antiga['Identificação'].str.upper()\n",
        "  for i in range(tam1):\n",
        "    for j in range(tam2):\n",
        "      if ( (planilha_atual['Identificação'][i] == planilha_antiga['Identificação'][j]) and (planilha_atual['Valor'][i] == planilha_antiga['Valor'][j])):\n",
        "        planilha_atual['Categoria'][i] = planilha_antiga['Categoria'][j]\n",
        "      j += 1\n",
        "    i = i+1\n",
        "  return planilha_atual"
      ]
    },
    {
      "cell_type": "markdown",
      "metadata": {
        "id": "dmcVUo3IbILo"
      },
      "source": [
        "## Importação de Planilhas"
      ]
    },
    {
      "cell_type": "markdown",
      "metadata": {
        "id": "hS958AItVnkT"
      },
      "source": [
        "\\  Primeiro, importamos a planilha do [Projeto Interno] ( a essencial) e de meses anteriores.\n",
        "\n",
        "\n",
        "\n",
        " * Dica: dar preferência a planilhas anuais/semestrais. Colocar tudo numa pasta do Google drive."
      ]
    },
    {
      "cell_type": "code",
      "execution_count": null,
      "metadata": {
        "id": "tHifccqEWK4F"
      },
      "outputs": [],
      "source": [
        "projetointerno = pd.read_csv(\"drive/MyDrive/planilhas para tratamento/projetointerno.csv\")\n",
        "#2022 -> transforme num arquivo csv único.\n",
        "AntigaJanAgo = pd.read_csv('drive/MyDrive/planilhas para tratamento/jan-ago.csv')\n",
        "Antiga0922 = pd.read_csv('drive/MyDrive/planilhas para tratamento/09.csv')\n",
        "#Algumas planilhas antigas necessitam de ajustes, como o caso da planilha de Setembro de 2022.\n",
        "Antiga0922.rename(columns={'Identificaçao': 'Identificação', 'Transaçao': 'Transação', 'Tipo Transaçao': 'Tipo Transação', 'Saida':'Saída'}, inplace = True)\n",
        "Antiga1022 = pd.read_csv('drive/MyDrive/planilhas para tratamento/planilhatratada.csv')\n",
        "#2023.1\n",
        "\n",
        "#2023.2 -> adicione aqui os arquivos csv de cada mês"
      ]
    },
    {
      "cell_type": "markdown",
      "metadata": {
        "id": "9FVF-Bu0WvBW"
      },
      "source": [
        "Em seguida, importamos a planilha que queremos tratar. Modifique o 'file.csv' para o nome do arquivo csv que você quer importar."
      ]
    },
    {
      "cell_type": "code",
      "execution_count": null,
      "metadata": {
        "colab": {
          "base_uri": "https://localhost:8080/",
          "height": 73
        },
        "id": "De9NVS8sWz-g",
        "outputId": "9f1b8ab0-7998-4d31-fe90-e79fd2e3c543"
      },
      "outputs": [
        {
          "output_type": "display_data",
          "data": {
            "text/plain": [
              "<IPython.core.display.HTML object>"
            ],
            "text/html": [
              "\n",
              "     <input type=\"file\" id=\"files-0de318b5-1bd6-4c96-b4a9-e261abbe2114\" name=\"files[]\" multiple disabled\n",
              "        style=\"border:none\" />\n",
              "     <output id=\"result-0de318b5-1bd6-4c96-b4a9-e261abbe2114\">\n",
              "      Upload widget is only available when the cell has been executed in the\n",
              "      current browser session. Please rerun this cell to enable.\n",
              "      </output>\n",
              "      <script>// Copyright 2017 Google LLC\n",
              "//\n",
              "// Licensed under the Apache License, Version 2.0 (the \"License\");\n",
              "// you may not use this file except in compliance with the License.\n",
              "// You may obtain a copy of the License at\n",
              "//\n",
              "//      http://www.apache.org/licenses/LICENSE-2.0\n",
              "//\n",
              "// Unless required by applicable law or agreed to in writing, software\n",
              "// distributed under the License is distributed on an \"AS IS\" BASIS,\n",
              "// WITHOUT WARRANTIES OR CONDITIONS OF ANY KIND, either express or implied.\n",
              "// See the License for the specific language governing permissions and\n",
              "// limitations under the License.\n",
              "\n",
              "/**\n",
              " * @fileoverview Helpers for google.colab Python module.\n",
              " */\n",
              "(function(scope) {\n",
              "function span(text, styleAttributes = {}) {\n",
              "  const element = document.createElement('span');\n",
              "  element.textContent = text;\n",
              "  for (const key of Object.keys(styleAttributes)) {\n",
              "    element.style[key] = styleAttributes[key];\n",
              "  }\n",
              "  return element;\n",
              "}\n",
              "\n",
              "// Max number of bytes which will be uploaded at a time.\n",
              "const MAX_PAYLOAD_SIZE = 100 * 1024;\n",
              "\n",
              "function _uploadFiles(inputId, outputId) {\n",
              "  const steps = uploadFilesStep(inputId, outputId);\n",
              "  const outputElement = document.getElementById(outputId);\n",
              "  // Cache steps on the outputElement to make it available for the next call\n",
              "  // to uploadFilesContinue from Python.\n",
              "  outputElement.steps = steps;\n",
              "\n",
              "  return _uploadFilesContinue(outputId);\n",
              "}\n",
              "\n",
              "// This is roughly an async generator (not supported in the browser yet),\n",
              "// where there are multiple asynchronous steps and the Python side is going\n",
              "// to poll for completion of each step.\n",
              "// This uses a Promise to block the python side on completion of each step,\n",
              "// then passes the result of the previous step as the input to the next step.\n",
              "function _uploadFilesContinue(outputId) {\n",
              "  const outputElement = document.getElementById(outputId);\n",
              "  const steps = outputElement.steps;\n",
              "\n",
              "  const next = steps.next(outputElement.lastPromiseValue);\n",
              "  return Promise.resolve(next.value.promise).then((value) => {\n",
              "    // Cache the last promise value to make it available to the next\n",
              "    // step of the generator.\n",
              "    outputElement.lastPromiseValue = value;\n",
              "    return next.value.response;\n",
              "  });\n",
              "}\n",
              "\n",
              "/**\n",
              " * Generator function which is called between each async step of the upload\n",
              " * process.\n",
              " * @param {string} inputId Element ID of the input file picker element.\n",
              " * @param {string} outputId Element ID of the output display.\n",
              " * @return {!Iterable<!Object>} Iterable of next steps.\n",
              " */\n",
              "function* uploadFilesStep(inputId, outputId) {\n",
              "  const inputElement = document.getElementById(inputId);\n",
              "  inputElement.disabled = false;\n",
              "\n",
              "  const outputElement = document.getElementById(outputId);\n",
              "  outputElement.innerHTML = '';\n",
              "\n",
              "  const pickedPromise = new Promise((resolve) => {\n",
              "    inputElement.addEventListener('change', (e) => {\n",
              "      resolve(e.target.files);\n",
              "    });\n",
              "  });\n",
              "\n",
              "  const cancel = document.createElement('button');\n",
              "  inputElement.parentElement.appendChild(cancel);\n",
              "  cancel.textContent = 'Cancel upload';\n",
              "  const cancelPromise = new Promise((resolve) => {\n",
              "    cancel.onclick = () => {\n",
              "      resolve(null);\n",
              "    };\n",
              "  });\n",
              "\n",
              "  // Wait for the user to pick the files.\n",
              "  const files = yield {\n",
              "    promise: Promise.race([pickedPromise, cancelPromise]),\n",
              "    response: {\n",
              "      action: 'starting',\n",
              "    }\n",
              "  };\n",
              "\n",
              "  cancel.remove();\n",
              "\n",
              "  // Disable the input element since further picks are not allowed.\n",
              "  inputElement.disabled = true;\n",
              "\n",
              "  if (!files) {\n",
              "    return {\n",
              "      response: {\n",
              "        action: 'complete',\n",
              "      }\n",
              "    };\n",
              "  }\n",
              "\n",
              "  for (const file of files) {\n",
              "    const li = document.createElement('li');\n",
              "    li.append(span(file.name, {fontWeight: 'bold'}));\n",
              "    li.append(span(\n",
              "        `(${file.type || 'n/a'}) - ${file.size} bytes, ` +\n",
              "        `last modified: ${\n",
              "            file.lastModifiedDate ? file.lastModifiedDate.toLocaleDateString() :\n",
              "                                    'n/a'} - `));\n",
              "    const percent = span('0% done');\n",
              "    li.appendChild(percent);\n",
              "\n",
              "    outputElement.appendChild(li);\n",
              "\n",
              "    const fileDataPromise = new Promise((resolve) => {\n",
              "      const reader = new FileReader();\n",
              "      reader.onload = (e) => {\n",
              "        resolve(e.target.result);\n",
              "      };\n",
              "      reader.readAsArrayBuffer(file);\n",
              "    });\n",
              "    // Wait for the data to be ready.\n",
              "    let fileData = yield {\n",
              "      promise: fileDataPromise,\n",
              "      response: {\n",
              "        action: 'continue',\n",
              "      }\n",
              "    };\n",
              "\n",
              "    // Use a chunked sending to avoid message size limits. See b/62115660.\n",
              "    let position = 0;\n",
              "    do {\n",
              "      const length = Math.min(fileData.byteLength - position, MAX_PAYLOAD_SIZE);\n",
              "      const chunk = new Uint8Array(fileData, position, length);\n",
              "      position += length;\n",
              "\n",
              "      const base64 = btoa(String.fromCharCode.apply(null, chunk));\n",
              "      yield {\n",
              "        response: {\n",
              "          action: 'append',\n",
              "          file: file.name,\n",
              "          data: base64,\n",
              "        },\n",
              "      };\n",
              "\n",
              "      let percentDone = fileData.byteLength === 0 ?\n",
              "          100 :\n",
              "          Math.round((position / fileData.byteLength) * 100);\n",
              "      percent.textContent = `${percentDone}% done`;\n",
              "\n",
              "    } while (position < fileData.byteLength);\n",
              "  }\n",
              "\n",
              "  // All done.\n",
              "  yield {\n",
              "    response: {\n",
              "      action: 'complete',\n",
              "    }\n",
              "  };\n",
              "}\n",
              "\n",
              "scope.google = scope.google || {};\n",
              "scope.google.colab = scope.google.colab || {};\n",
              "scope.google.colab._files = {\n",
              "  _uploadFiles,\n",
              "  _uploadFilesContinue,\n",
              "};\n",
              "})(self);\n",
              "</script> "
            ]
          },
          "metadata": {}
        },
        {
          "output_type": "stream",
          "name": "stdout",
          "text": [
            "Saving cora_agosto.csv to cora_agosto.csv\n"
          ]
        }
      ],
      "source": [
        "from google.colab import files\n",
        "uploaded = files.upload()\n",
        "planilha_atual = pd.read_csv(io.BytesIO(uploaded['cora_agosto.csv']))"
      ]
    },
    {
      "cell_type": "markdown",
      "metadata": {
        "id": "2zgJhnAsg4xz"
      },
      "source": [
        "## Tratamento Básico da Planilha Atual"
      ]
    },
    {
      "cell_type": "markdown",
      "metadata": {
        "id": "uZMIMZlMTZP0"
      },
      "source": []
    },
    {
      "cell_type": "code",
      "execution_count": null,
      "metadata": {
        "id": "psVy5g9RhBEU"
      },
      "outputs": [],
      "source": [
        "planilha_atual.insert(3, \"Banco\", \"nome do banco\", True) #Cria coluna na posição 3, chama de Banco e nomeia todos os elementos como \"nome do banco\"\n",
        "planilha_atual = planilha_atual.replace({'Transf Pix enviada':'PIX', 'Pgto QR Code Pix':'PIX', 'Boleto pago':'BOLETO'}) #renomeia todos os elementos do dataframe para as respectivas alterações\n",
        "planilha_atual = planilha_atual.assign(Categoria='NaN') #cria coluna de categoria\n",
        "planilha_atual['Identificação'] = planilha_atual['Identificação'].str.upper() #deixa os nomes na coluna identificação em maiúsculo\n",
        "planilha_atual = planilha_atual.assign(Entrada='NaN') #ceia coluna de entrada\n",
        "planilha_atual = planilha_atual.assign(Saída='NaN') #cria coluna de saída\n",
        "planilha_atual = planilha_atual.sort_values('Data') #ordena os valores da planilha por data.\n",
        "\n",
        "somatorio = 0\n",
        "#O laço percorre toda a planilha e vai somando os valores dos pagamentos e armazenando na variável somatório.\n",
        "for index, row in planilha_atual.iterrows():\n",
        "  somatorio += row['Valor']\n",
        "  planilha_atual.at[index, 'Valor acumulado'] = somatorio #o valor atual do somatório em cada iteração do laço é sempre adicionado na célula atual de \"valor acumulado\"\n",
        "  if row['Valor'] > 0: #se os valores forem positivos, são entradas\n",
        "    planilha_atual.at[index, 'Entrada'] = row['Valor']\n",
        "  elif row['Valor'] < 0: #se forem negativos, são saídas\n",
        "    planilha_atual.at[index, 'Saída'] = row['Valor']\n",
        "    #Adiciona categorias frequentes com base na identificação do pagamento/valor.\n",
        "  if row['Identificação'] == 'DISTRIBUIDORA E LOGISTICA DE PE IMPORTACAO E EXPOR':\n",
        "    planilha_atual.at[index, 'Categoria'] = 'Custos do CITi'\n",
        "  if row['Identificação'] == 'PREFEITURA DA CIDADE DO R' or row['Identificação'] =='DARF - SEM CÓDIGO DE BARRAS' or row['Identificação'] =='DARF - SEM CODIGO DE BARRAS':\n",
        "    planilha_atual.at[index, 'Categoria'] = 'Impostos'\n",
        "    planilha_atual.at[index, 'Identificação'] = 'PREFEITURA DA CIDADE DO RECIFE'\n",
        "  if row['Identificação'] =='YAPAY PAGAMENTOS ONLINE LTDA' or row['Identificação'] =='PJBANK PAGAMENTOS S.A' or row['Identificação'] =='ELEVE TECNOLOGIA I LTDA ME' or row['Identificação'] =='Pulses Servicos Digitais S A' :\n",
        "    planilha_atual.at[index, 'Categoria'] = 'Plataformas'\n",
        "  if ((row['Identificação'] =='CENTRO INTEGRADO DE TECNOLOGIA DA INFORM')and (row['Valor'] >= -3000.00)):\n",
        "    planilha_atual.at[index, 'Categoria'] = 'ContaSimples'\n",
        "  if (row['Identificação'] =='planilha_atual SCD'):\n",
        "    planilha_atual.at[index, 'Categoria'] = 'Fatura planilha_atual'\n",
        "  if (row['Identificação'] =='BANCO BS2 SA'):\n",
        "    planilha_atual.at[index, 'Categoria'] = 'Recebimento de cliente'\n",
        "  if (row['Identificação'] =='PONTUALLY ASSESSORIA E PERICIA CONTABIL' or row['Identificação'] =='KOTTLER COMUNICACOES LTDA' or row['Identificação'] =='ANA KARLA BARBOSA DA SILVA' or row['Identificação'] =='ASAAS GESTAO FINANCEIRA S A' ):\n",
        "    planilha_atual.at[index, 'Categoria'] = 'Terceirização'"
      ]
    },
    {
      "cell_type": "markdown",
      "metadata": {
        "id": "vwvvSgCuaKgg"
      },
      "source": [
        "## Tratamento básico da planilha do projetointerno\n",
        "É importante que o nome das colunas sejam compatíveis entre a planilha_atual e a do projetointerno."
      ]
    },
    {
      "cell_type": "code",
      "execution_count": null,
      "metadata": {
        "id": "3ao_jwyRaPN4"
      },
      "outputs": [],
      "source": [
        "#transformação em lista\n",
        "qtd_pessoas = 9\n",
        "projetointerno.rename(columns={'Nome do Titular':'Identificação'}, inplace=True) #renomeia coluna de Nome do Titular para Identificação.\n",
        "projetointerno['Identificação'] = projetointerno['Identificação'].str.upper() #deixa todos os nomes de identificação maiúsculos\n",
        "lista = projetointerno['Identificação'].tolist() #transforma a coluna de identificação numa lista\n",
        "for i in range(0, qtd_pessoas):\n",
        "      lista[i] = lista[i].strip() #tira espaços em branco no final da lista (verifique se realmente precisa na desse ano)"
      ]
    },
    {
      "cell_type": "code",
      "execution_count": null,
      "metadata": {
        "id": "r9X47NHfai9T"
      },
      "outputs": [],
      "source": [
        "#adiciona categoria \"projetointerno\"\n",
        "#verifica se os valores e os nomes das pessoas são compatíveis.\n",
        "for i, item in zip(planilha_atual.index, planilha_atual['Identificação']):\n",
        "  for j in range(len(lista)):\n",
        "    if (item == lista[j] and (planilha_atual.at[i, 'Valor'] == -200.00 or planilha_atual.at[i, 'Valor'] == -300.00 or planilha_atual.at[i, 'Valor'] == -400.00)):\n",
        "      planilha_atual.at[i, 'Categoria'] = 'projetointerno'"
      ]
    },
    {
      "cell_type": "markdown",
      "metadata": {
        "id": "0frFFiimcJla"
      },
      "source": [
        "## Tratamento das Planilhas Antigas & Acréscimo de Categorias na Planilha Atual\n",
        "\n",
        "Utilize a função do início deste código para todas as planilhas anteriores que você importou anteriormente."
      ]
    },
    {
      "cell_type": "code",
      "execution_count": null,
      "metadata": {
        "colab": {
          "base_uri": "https://localhost:8080/"
        },
        "id": "Y7VFx-3ecaMQ",
        "outputId": "45134352-11ee-4731-9d61-f2c86be7823c"
      },
      "outputs": [
        {
          "output_type": "stream",
          "name": "stderr",
          "text": [
            "<ipython-input-3-a61b3fe92732>:19: SettingWithCopyWarning: \n",
            "A value is trying to be set on a copy of a slice from a DataFrame\n",
            "\n",
            "See the caveats in the documentation: https://pandas.pydata.org/pandas-docs/stable/user_guide/indexing.html#returning-a-view-versus-a-copy\n",
            "  cora['Categoria'][i] = planilha_antiga['Categoria'][j]\n"
          ]
        }
      ],
      "source": [
        "planilha_atual = tratamento_planilhas_antigas(AntigaJanAgo, planilha_atual)"
      ]
    },
    {
      "cell_type": "code",
      "execution_count": null,
      "metadata": {
        "colab": {
          "base_uri": "https://localhost:8080/"
        },
        "id": "jNJ8Lxzvh2J7",
        "outputId": "8354d35f-2e47-4022-eae2-3c163c5641e0"
      },
      "outputs": [
        {
          "output_type": "stream",
          "name": "stderr",
          "text": [
            "<ipython-input-3-a61b3fe92732>:19: SettingWithCopyWarning: \n",
            "A value is trying to be set on a copy of a slice from a DataFrame\n",
            "\n",
            "See the caveats in the documentation: https://pandas.pydata.org/pandas-docs/stable/user_guide/indexing.html#returning-a-view-versus-a-copy\n",
            "  cora['Categoria'][i] = planilha_antiga['Categoria'][j]\n"
          ]
        }
      ],
      "source": [
        "planilha_atual = tratamento_planilhas_antigas(Antiga0922, planilha_atual)"
      ]
    },
    {
      "cell_type": "code",
      "execution_count": null,
      "metadata": {
        "colab": {
          "base_uri": "https://localhost:8080/"
        },
        "id": "lyt62JpVh2Tx",
        "outputId": "7149d56a-577d-4e6e-a52f-5604337257d7"
      },
      "outputs": [
        {
          "output_type": "stream",
          "name": "stderr",
          "text": [
            "<ipython-input-3-a61b3fe92732>:19: SettingWithCopyWarning: \n",
            "A value is trying to be set on a copy of a slice from a DataFrame\n",
            "\n",
            "See the caveats in the documentation: https://pandas.pydata.org/pandas-docs/stable/user_guide/indexing.html#returning-a-view-versus-a-copy\n",
            "  cora['Categoria'][i] = planilha_antiga['Categoria'][j]\n"
          ]
        }
      ],
      "source": [
        "planilha_atual = tratamento_planilhas_antigas(Antiga1022, planilha_atual)"
      ]
    },
    {
      "cell_type": "code",
      "execution_count": null,
      "metadata": {
        "id": "Yc21uOHAvDnp"
      },
      "outputs": [],
      "source": []
    },
    {
      "cell_type": "markdown",
      "metadata": {
        "id": "yr9SomIDdedO"
      },
      "source": [
        "## Transforma o csv em arquivo Excel\n",
        "Não esqueça de modificar o nome do arquivo para o mês do qual você está fazendo o relatório."
      ]
    },
    {
      "cell_type": "code",
      "execution_count": null,
      "metadata": {
        "id": "fpAZsVDod5sg"
      },
      "outputs": [],
      "source": [
        "arquivo = 'agosto_tratado.xlsx'\n",
        "planilha_atual.to_excel(arquivo)"
      ]
    }
  ],
  "metadata": {
    "colab": {
      "provenance": []
    },
    "kernelspec": {
      "display_name": "Python 3",
      "name": "python3"
    },
    "language_info": {
      "name": "python"
    }
  },
  "nbformat": 4,
  "nbformat_minor": 0
}